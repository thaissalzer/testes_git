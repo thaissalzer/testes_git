{
 "cells": [
  {
   "cell_type": "code",
   "execution_count": 1,
   "id": "55088743-260a-4236-bbce-277f0d93bfd4",
   "metadata": {},
   "outputs": [],
   "source": [
    "import pandas as pd"
   ]
  },
  {
   "cell_type": "code",
   "execution_count": 2,
   "id": "c8667840-8b74-41e7-86ce-71b06b13ed15",
   "metadata": {},
   "outputs": [
    {
     "data": {
      "text/html": [
       "<div>\n",
       "<style scoped>\n",
       "    .dataframe tbody tr th:only-of-type {\n",
       "        vertical-align: middle;\n",
       "    }\n",
       "\n",
       "    .dataframe tbody tr th {\n",
       "        vertical-align: top;\n",
       "    }\n",
       "\n",
       "    .dataframe thead th {\n",
       "        text-align: right;\n",
       "    }\n",
       "</style>\n",
       "<table border=\"1\" class=\"dataframe\">\n",
       "  <thead>\n",
       "    <tr style=\"text-align: right;\">\n",
       "      <th></th>\n",
       "      <th>id_billC</th>\n",
       "      <th>nameBill</th>\n",
       "      <th>presentationDate</th>\n",
       "      <th>houseInitiated</th>\n",
       "      <th>ementa</th>\n",
       "      <th>ementaDetail</th>\n",
       "      <th>keyWords</th>\n",
       "      <th>follow</th>\n",
       "    </tr>\n",
       "  </thead>\n",
       "  <tbody>\n",
       "    <tr>\n",
       "      <th>0</th>\n",
       "      <td>605389</td>\n",
       "      <td>PL 7034/2014</td>\n",
       "      <td>2014-02-04T14:15</td>\n",
       "      <td>Câmara dos Deputados</td>\n",
       "      <td>Impõe a decretação de prisão preventiva em cas...</td>\n",
       "      <td>Altera o Decreto-Lei nº 3.689, de 1941.</td>\n",
       "      <td>Alteração, Código de Processo Penal, prisão pr...</td>\n",
       "      <td>no</td>\n",
       "    </tr>\n",
       "    <tr>\n",
       "      <th>1</th>\n",
       "      <td>605417</td>\n",
       "      <td>PL 7035/2014</td>\n",
       "      <td>2014-02-04T16:07</td>\n",
       "      <td>Câmara dos Deputados</td>\n",
       "      <td>Estabelece normas gerais sobre Segurança Escolar.</td>\n",
       "      <td>NaN</td>\n",
       "      <td>Criação, normas, segurança escolar.</td>\n",
       "      <td>no</td>\n",
       "    </tr>\n",
       "    <tr>\n",
       "      <th>2</th>\n",
       "      <td>485398</td>\n",
       "      <td>PLS 35/2010</td>\n",
       "      <td>2010-10-07T11:18</td>\n",
       "      <td>Senado Federal</td>\n",
       "      <td>Concede isenção do Imposto sobre Produtos  Ind...</td>\n",
       "      <td>NaN</td>\n",
       "      <td>NaN</td>\n",
       "      <td>yes</td>\n",
       "    </tr>\n",
       "    <tr>\n",
       "      <th>3</th>\n",
       "      <td>2191135</td>\n",
       "      <td>PL 452/2019</td>\n",
       "      <td>2019-02-05T15:45</td>\n",
       "      <td>Câmara dos Deputados</td>\n",
       "      <td>Estabelece causa de aumento de pena para o cri...</td>\n",
       "      <td>Altera o Decreto-Lei 2.848 de 1940.</td>\n",
       "      <td>Alteração, Código Penal, tipicidade penal, est...</td>\n",
       "      <td>no</td>\n",
       "    </tr>\n",
       "    <tr>\n",
       "      <th>4</th>\n",
       "      <td>2192470</td>\n",
       "      <td>PL 925/2019</td>\n",
       "      <td>2019-02-20T13:24</td>\n",
       "      <td>Câmara dos Deputados</td>\n",
       "      <td>Institui o \"Dia Nacional do Orgulho Heterossex...</td>\n",
       "      <td>NaN</td>\n",
       "      <td>Criação, Dia Nacional do Orgulho Heterossexual...</td>\n",
       "      <td>no</td>\n",
       "    </tr>\n",
       "  </tbody>\n",
       "</table>\n",
       "</div>"
      ],
      "text/plain": [
       "   id_billC      nameBill  presentationDate        houseInitiated  \\\n",
       "0    605389  PL 7034/2014  2014-02-04T14:15  Câmara dos Deputados   \n",
       "1    605417  PL 7035/2014  2014-02-04T16:07  Câmara dos Deputados   \n",
       "2    485398   PLS 35/2010  2010-10-07T11:18        Senado Federal   \n",
       "3   2191135   PL 452/2019  2019-02-05T15:45  Câmara dos Deputados   \n",
       "4   2192470   PL 925/2019  2019-02-20T13:24  Câmara dos Deputados   \n",
       "\n",
       "                                              ementa  \\\n",
       "0  Impõe a decretação de prisão preventiva em cas...   \n",
       "1  Estabelece normas gerais sobre Segurança Escolar.   \n",
       "2  Concede isenção do Imposto sobre Produtos  Ind...   \n",
       "3  Estabelece causa de aumento de pena para o cri...   \n",
       "4  Institui o \"Dia Nacional do Orgulho Heterossex...   \n",
       "\n",
       "                              ementaDetail  \\\n",
       "0  Altera o Decreto-Lei nº 3.689, de 1941.   \n",
       "1                                      NaN   \n",
       "2                                      NaN   \n",
       "3      Altera o Decreto-Lei 2.848 de 1940.   \n",
       "4                                      NaN   \n",
       "\n",
       "                                            keyWords follow  \n",
       "0  Alteração, Código de Processo Penal, prisão pr...     no  \n",
       "1                Criação, normas, segurança escolar.     no  \n",
       "2                                                NaN    yes  \n",
       "3  Alteração, Código Penal, tipicidade penal, est...     no  \n",
       "4  Criação, Dia Nacional do Orgulho Heterossexual...     no  "
      ]
     },
     "execution_count": 2,
     "metadata": {},
     "output_type": "execute_result"
    }
   ],
   "source": [
    "pd.read_excel('data/pri- projetos.xlsx').head()"
   ]
  },
  {
   "cell_type": "code",
   "execution_count": 5,
   "id": "fdcf27ad-e8a7-4ec4-a8c7-8cb588719fa9",
   "metadata": {},
   "outputs": [
    {
     "name": "stdout",
     "output_type": "stream",
     "text": [
      "<class 'pandas.core.frame.DataFrame'>\n",
      "RangeIndex: 1866 entries, 0 to 1865\n",
      "Data columns (total 8 columns):\n",
      " #   Column            Non-Null Count  Dtype \n",
      "---  ------            --------------  ----- \n",
      " 0   id_billC          1866 non-null   int64 \n",
      " 1   nameBill          1866 non-null   object\n",
      " 2   presentationDate  1866 non-null   object\n",
      " 3   houseInitiated    1866 non-null   object\n",
      " 4   ementa            1866 non-null   object\n",
      " 5   ementaDetail      108 non-null    object\n",
      " 6   keyWords          1842 non-null   object\n",
      " 7   follow            1866 non-null   object\n",
      "dtypes: int64(1), object(7)\n",
      "memory usage: 116.8+ KB\n"
     ]
    }
   ],
   "source": [
    "df = pd.read_excel('data/pri- projetos.xlsx')\n",
    "df.info()"
   ]
  },
  {
   "cell_type": "code",
   "execution_count": null,
   "id": "17149da7-8341-4cd4-81e8-6ab24adf6ea8",
   "metadata": {},
   "outputs": [],
   "source": []
  }
 ],
 "metadata": {
  "kernelspec": {
   "display_name": "Python 3 (ipykernel)",
   "language": "python",
   "name": "python3"
  },
  "language_info": {
   "codemirror_mode": {
    "name": "ipython",
    "version": 3
   },
   "file_extension": ".py",
   "mimetype": "text/x-python",
   "name": "python",
   "nbconvert_exporter": "python",
   "pygments_lexer": "ipython3",
   "version": "3.11.5"
  }
 },
 "nbformat": 4,
 "nbformat_minor": 5
}
